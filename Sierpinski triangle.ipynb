{
 "cells": [
  {
   "cell_type": "code",
   "execution_count": 1,
   "id": "dc3b4233",
   "metadata": {},
   "outputs": [],
   "source": [
    "import numpy as np\n",
    "import matplotlib.pyplot as plt\n",
    "from matplotlib.animation import FuncAnimation\n",
    "import matplotlib.animation as animation"
   ]
  },
  {
   "cell_type": "code",
   "execution_count": 4,
   "id": "0bd25987",
   "metadata": {},
   "outputs": [],
   "source": [
    "%matplotlib qt\n",
    "fig = plt.figure(figsize=(7,5))\n",
    "fig.suptitle('Sierpinski Triangle', fontsize=14)\n",
    "def animate(N):\n",
    "    V=[[0,0],[1,0],[1/2,np.sqrt(3)/2]] #Taking the co-ordinates of\\\n",
    "        #three vertices of an euilateral triangle of length 1 unit\n",
    "    x,y=zip(*V) #Unpacking V\n",
    "    plt.plot(x,y,'*',color='red') #Ploting three Vertices\n",
    "    test=[0.5,0.8] #Taking any random point inside the trianle\n",
    "    plt.plot(*test,'.',color='blue')\n",
    "    V.append(test) #appending this to V\n",
    "    #Adding our last point with randomlly selected vertices points \n",
    "    #And making an average which will be our next iteration point\n",
    "    for i in range(N):\n",
    "        f,t=zip(*[np.add(V[-1],V[np.random.choice([0,1,2])])/2])\n",
    "        V.append([*f,*t]) #Appeinging our last calculated point in V\n",
    "        plt.plot(f,t,'.',color='k') #ploting the points\n",
    "        plt.xlim(-0.05,1.05)\n",
    "        plt.ylim(-0.05,0.9)\n",
    "anim = FuncAnimation(fig, animate,\\\n",
    "                     frames=200, interval=150) #animating the Graph\n",
    "#Saving the graph\n",
    "writervideo = animation.FFMpegWriter(fps=20)\n",
    "#anim.save('Sierpinski Triangle.mp4', writer=writervideo)\n",
    "#anim.save('Sierpinski Triangle.gif', writer=writervideo)"
   ]
  },
  {
   "cell_type": "code",
   "execution_count": null,
   "id": "8813f62a",
   "metadata": {},
   "outputs": [],
   "source": []
  },
  {
   "cell_type": "code",
   "execution_count": null,
   "id": "a39bd796",
   "metadata": {},
   "outputs": [],
   "source": []
  }
 ],
 "metadata": {
  "kernelspec": {
   "display_name": "Python 3 (ipykernel)",
   "language": "python",
   "name": "python3"
  },
  "language_info": {
   "codemirror_mode": {
    "name": "ipython",
    "version": 3
   },
   "file_extension": ".py",
   "mimetype": "text/x-python",
   "name": "python",
   "nbconvert_exporter": "python",
   "pygments_lexer": "ipython3",
   "version": "3.9.13"
  }
 },
 "nbformat": 4,
 "nbformat_minor": 5
}
